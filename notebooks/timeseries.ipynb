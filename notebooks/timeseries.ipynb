{
 "cells": [
  {
   "cell_type": "code",
   "id": "initial_id",
   "metadata": {
    "collapsed": true,
    "ExecuteTime": {
     "end_time": "2025-06-10T17:38:47.359166Z",
     "start_time": "2025-06-10T17:38:47.352864Z"
    }
   },
   "source": [
    "import pandas as pd\n",
    "import sqlite3"
   ],
   "outputs": [],
   "execution_count": 2
  },
  {
   "metadata": {
    "ExecuteTime": {
     "end_time": "2025-06-10T17:40:51.881494Z",
     "start_time": "2025-06-10T17:40:34.015923Z"
    }
   },
   "cell_type": "code",
   "source": [
    "conn = sqlite3.connect('../tmp/dump3.db')\n",
    "\n",
    "df = pd.read_sql(\"\"\"\n",
    "    select * from train_position where date(created_at, 'auto') > '2025-06-06'\n",
    "\"\"\",conn,\n",
    "    dtype={\n",
    "        \"relation\": \"category\",\n",
    "        \"menetvonal\": \"category\",\n",
    "        \"elvira_id\": \"category\",\n",
    "        \"train_number\": \"category\",\n",
    "        \"line\": \"category\"\n",
    "    },)"
   ],
   "id": "4a7f84538f50bc45",
   "outputs": [],
   "execution_count": 5
  },
  {
   "metadata": {
    "ExecuteTime": {
     "end_time": "2025-06-10T17:41:28.387398Z",
     "start_time": "2025-06-10T17:41:28.234832Z"
    }
   },
   "cell_type": "code",
   "source": "df.to_pickle('../tmp/dump3.pkl')",
   "id": "a6859dc771b2b188",
   "outputs": [],
   "execution_count": 8
  },
  {
   "metadata": {
    "ExecuteTime": {
     "end_time": "2025-06-10T17:41:50.116237Z",
     "start_time": "2025-06-10T17:41:50.038483Z"
    }
   },
   "cell_type": "code",
   "source": "df['timestamp'] = pd.to_datetime(df['created_at'], unit='s')",
   "id": "7aaa6abd745fdb55",
   "outputs": [],
   "execution_count": 9
  },
  {
   "metadata": {
    "ExecuteTime": {
     "end_time": "2025-06-10T17:42:55.063191Z",
     "start_time": "2025-06-10T17:42:54.796390Z"
    }
   },
   "cell_type": "code",
   "source": "df = df[df['lat'] > 40]",
   "id": "5ea311c70bbca754",
   "outputs": [],
   "execution_count": 12
  },
  {
   "metadata": {
    "ExecuteTime": {
     "end_time": "2025-06-10T17:44:53.781949Z",
     "start_time": "2025-06-10T17:44:53.600439Z"
    }
   },
   "cell_type": "code",
   "source": "df = df.set_index('timestamp')",
   "id": "44ff746b42690e2c",
   "outputs": [],
   "execution_count": 15
  },
  {
   "metadata": {
    "ExecuteTime": {
     "end_time": "2025-06-10T17:44:58.343216Z",
     "start_time": "2025-06-10T17:44:58.327039Z"
    }
   },
   "cell_type": "code",
   "source": "df.head()",
   "id": "47395340737f8c43",
   "outputs": [
    {
     "data": {
      "text/plain": [
       "                     created_at       lat       lon  delay  \\\n",
       "timestamp                                                    \n",
       "2025-06-07 16:57:41  1749315461  47.64133  19.65526    8.0   \n",
       "2025-06-07 16:57:41  1749315461  47.49243  21.56193   33.0   \n",
       "2025-06-07 16:57:41  1749315461  47.48460  18.82997    7.0   \n",
       "2025-06-07 16:57:41  1749315461  47.46358  19.01997    2.0   \n",
       "2025-06-07 16:57:41  1749315461  47.52648  21.64364    0.0   \n",
       "\n",
       "                                       relation train_number menetvonal  \\\n",
       "timestamp                                                                 \n",
       "2025-06-07 16:57:41            Újszász - Hatvan      5513231        MAV   \n",
       "2025-06-07 16:57:41             Wien Hbf - Chop        55143        MAV   \n",
       "2025-06-07 16:57:41  Wien Hbf - Budapest-Keleti        55147        MAV   \n",
       "2025-06-07 16:57:41  Budapest-Keleti - Wien Hbf        55148        MAV   \n",
       "2025-06-07 16:57:41       Nyírábrány - Debrecen      5516833        MAV   \n",
       "\n",
       "                          elvira_id line  \n",
       "timestamp                                 \n",
       "2025-06-07 16:57:41         _250607  NaN  \n",
       "2025-06-07 16:57:41  8018425_250607  100  \n",
       "2025-06-07 16:57:41  8018423_250607   1U  \n",
       "2025-06-07 16:57:41  8018421_250607  NaN  \n",
       "2025-06-07 16:57:41  7596986_250607  NaN  "
      ],
      "text/html": [
       "<div>\n",
       "<style scoped>\n",
       "    .dataframe tbody tr th:only-of-type {\n",
       "        vertical-align: middle;\n",
       "    }\n",
       "\n",
       "    .dataframe tbody tr th {\n",
       "        vertical-align: top;\n",
       "    }\n",
       "\n",
       "    .dataframe thead th {\n",
       "        text-align: right;\n",
       "    }\n",
       "</style>\n",
       "<table border=\"1\" class=\"dataframe\">\n",
       "  <thead>\n",
       "    <tr style=\"text-align: right;\">\n",
       "      <th></th>\n",
       "      <th>created_at</th>\n",
       "      <th>lat</th>\n",
       "      <th>lon</th>\n",
       "      <th>delay</th>\n",
       "      <th>relation</th>\n",
       "      <th>train_number</th>\n",
       "      <th>menetvonal</th>\n",
       "      <th>elvira_id</th>\n",
       "      <th>line</th>\n",
       "    </tr>\n",
       "    <tr>\n",
       "      <th>timestamp</th>\n",
       "      <th></th>\n",
       "      <th></th>\n",
       "      <th></th>\n",
       "      <th></th>\n",
       "      <th></th>\n",
       "      <th></th>\n",
       "      <th></th>\n",
       "      <th></th>\n",
       "      <th></th>\n",
       "    </tr>\n",
       "  </thead>\n",
       "  <tbody>\n",
       "    <tr>\n",
       "      <th>2025-06-07 16:57:41</th>\n",
       "      <td>1749315461</td>\n",
       "      <td>47.64133</td>\n",
       "      <td>19.65526</td>\n",
       "      <td>8.0</td>\n",
       "      <td>Újszász - Hatvan</td>\n",
       "      <td>5513231</td>\n",
       "      <td>MAV</td>\n",
       "      <td>_250607</td>\n",
       "      <td>NaN</td>\n",
       "    </tr>\n",
       "    <tr>\n",
       "      <th>2025-06-07 16:57:41</th>\n",
       "      <td>1749315461</td>\n",
       "      <td>47.49243</td>\n",
       "      <td>21.56193</td>\n",
       "      <td>33.0</td>\n",
       "      <td>Wien Hbf - Chop</td>\n",
       "      <td>55143</td>\n",
       "      <td>MAV</td>\n",
       "      <td>8018425_250607</td>\n",
       "      <td>100</td>\n",
       "    </tr>\n",
       "    <tr>\n",
       "      <th>2025-06-07 16:57:41</th>\n",
       "      <td>1749315461</td>\n",
       "      <td>47.48460</td>\n",
       "      <td>18.82997</td>\n",
       "      <td>7.0</td>\n",
       "      <td>Wien Hbf - Budapest-Keleti</td>\n",
       "      <td>55147</td>\n",
       "      <td>MAV</td>\n",
       "      <td>8018423_250607</td>\n",
       "      <td>1U</td>\n",
       "    </tr>\n",
       "    <tr>\n",
       "      <th>2025-06-07 16:57:41</th>\n",
       "      <td>1749315461</td>\n",
       "      <td>47.46358</td>\n",
       "      <td>19.01997</td>\n",
       "      <td>2.0</td>\n",
       "      <td>Budapest-Keleti - Wien Hbf</td>\n",
       "      <td>55148</td>\n",
       "      <td>MAV</td>\n",
       "      <td>8018421_250607</td>\n",
       "      <td>NaN</td>\n",
       "    </tr>\n",
       "    <tr>\n",
       "      <th>2025-06-07 16:57:41</th>\n",
       "      <td>1749315461</td>\n",
       "      <td>47.52648</td>\n",
       "      <td>21.64364</td>\n",
       "      <td>0.0</td>\n",
       "      <td>Nyírábrány - Debrecen</td>\n",
       "      <td>5516833</td>\n",
       "      <td>MAV</td>\n",
       "      <td>7596986_250607</td>\n",
       "      <td>NaN</td>\n",
       "    </tr>\n",
       "  </tbody>\n",
       "</table>\n",
       "</div>"
      ]
     },
     "execution_count": 16,
     "metadata": {},
     "output_type": "execute_result"
    }
   ],
   "execution_count": 16
  },
  {
   "metadata": {
    "ExecuteTime": {
     "end_time": "2025-06-10T17:45:52.044282Z",
     "start_time": "2025-06-10T17:45:51.216810Z"
    }
   },
   "cell_type": "code",
   "source": "df.resample('1h')['delay'].mean().plot()",
   "id": "85b806ea04c896aa",
   "outputs": [
    {
     "data": {
      "text/plain": [
       "<Axes: xlabel='timestamp'>"
      ]
     },
     "execution_count": 18,
     "metadata": {},
     "output_type": "execute_result"
    },
    {
     "data": {
      "text/plain": [
       "<Figure size 640x480 with 1 Axes>"
      ],
      "image/png": "[encoded data removed]"
     },
     "metadata": {},
     "output_type": "display_data"
    }
   ],
   "execution_count": 18
  },
  {
   "metadata": {
    "ExecuteTime": {
     "end_time": "2025-06-10T17:48:57.486731Z",
     "start_time": "2025-06-10T17:48:57.399597Z"
    }
   },
   "cell_type": "code",
   "source": "df.groupby('relation')['delay'].agg(['mean', 'count', 'std']).sort_values(by='mean', ascending=False)",
   "id": "a4fe8a4fb00c037d",
   "outputs": [
    {
     "name": "stderr",
     "output_type": "stream",
     "text": [
      "/var/folders/lt/gqr91__s30l64fglfjp_cdzh0000gn/T/ipykernel_84272/3127050850.py:1: FutureWarning: The default of observed=False is deprecated and will be changed to True in a future version of pandas. Pass observed=False to retain current behavior or observed=True to adopt the future default and silence this warning.\n",
      "  df.groupby('relation')['delay'].agg(['mean', 'count', 'std']).sort_values(by='mean', ascending=False)\n"
     ]
    },
    {
     "data": {
      "text/plain": [
       "                                                       mean  count        std\n",
       "relation                                                                     \n",
       "Praha hl. n. - Budapest-Nyugati                   54.875149   4205  61.441287\n",
       "Nyírábrány - Budapest-Keleti                      44.493421    304   1.221354\n",
       "Debrecen - Baia Mare                              42.397765    895  30.176149\n",
       "Budapest-Déli - Zagreb Glavni Kol.                34.828926   3782  39.109008\n",
       "Braşov - Budapest-Keleti                          32.670436   4245  57.862043\n",
       "...                                                     ...    ...        ...\n",
       "Hegyeshalom - Bratislava-Petrzalka                 0.000000    471   0.000000\n",
       "Mezőtúr - Szarvas                                  0.000000    458   0.000000\n",
       "Magyarbóly - Villány                               0.000000    385   0.000000\n",
       "Szeged vasútállomás - Szeged, Rókus vasútállomás   0.000000    571   0.000000\n",
       "Gyula - Szeged                                     0.000000     56   0.000000\n",
       "\n",
       "[586 rows x 3 columns]"
      ],
      "text/html": [
       "<div>\n",
       "<style scoped>\n",
       "    .dataframe tbody tr th:only-of-type {\n",
       "        vertical-align: middle;\n",
       "    }\n",
       "\n",
       "    .dataframe tbody tr th {\n",
       "        vertical-align: top;\n",
       "    }\n",
       "\n",
       "    .dataframe thead th {\n",
       "        text-align: right;\n",
       "    }\n",
       "</style>\n",
       "<table border=\"1\" class=\"dataframe\">\n",
       "  <thead>\n",
       "    <tr style=\"text-align: right;\">\n",
       "      <th></th>\n",
       "      <th>mean</th>\n",
       "      <th>count</th>\n",
       "      <th>std</th>\n",
       "    </tr>\n",
       "    <tr>\n",
       "      <th>relation</th>\n",
       "      <th></th>\n",
       "      <th></th>\n",
       "      <th></th>\n",
       "    </tr>\n",
       "  </thead>\n",
       "  <tbody>\n",
       "    <tr>\n",
       "      <th>Praha hl. n. - Budapest-Nyugati</th>\n",
       "      <td>54.875149</td>\n",
       "      <td>4205</td>\n",
       "      <td>61.441287</td>\n",
       "    </tr>\n",
       "    <tr>\n",
       "      <th>Nyírábrány - Budapest-Keleti</th>\n",
       "      <td>44.493421</td>\n",
       "      <td>304</td>\n",
       "      <td>1.221354</td>\n",
       "    </tr>\n",
       "    <tr>\n",
       "      <th>Debrecen - Baia Mare</th>\n",
       "      <td>42.397765</td>\n",
       "      <td>895</td>\n",
       "      <td>30.176149</td>\n",
       "    </tr>\n",
       "    <tr>\n",
       "      <th>Budapest-Déli - Zagreb Glavni Kol.</th>\n",
       "      <td>34.828926</td>\n",
       "      <td>3782</td>\n",
       "      <td>39.109008</td>\n",
       "    </tr>\n",
       "    <tr>\n",
       "      <th>Braşov - Budapest-Keleti</th>\n",
       "      <td>32.670436</td>\n",
       "      <td>4245</td>\n",
       "      <td>57.862043</td>\n",
       "    </tr>\n",
       "    <tr>\n",
       "      <th>...</th>\n",
       "      <td>...</td>\n",
       "      <td>...</td>\n",
       "      <td>...</td>\n",
       "    </tr>\n",
       "    <tr>\n",
       "      <th>Hegyeshalom - Bratislava-Petrzalka</th>\n",
       "      <td>0.000000</td>\n",
       "      <td>471</td>\n",
       "      <td>0.000000</td>\n",
       "    </tr>\n",
       "    <tr>\n",
       "      <th>Mezőtúr - Szarvas</th>\n",
       "      <td>0.000000</td>\n",
       "      <td>458</td>\n",
       "      <td>0.000000</td>\n",
       "    </tr>\n",
       "    <tr>\n",
       "      <th>Magyarbóly - Villány</th>\n",
       "      <td>0.000000</td>\n",
       "      <td>385</td>\n",
       "      <td>0.000000</td>\n",
       "    </tr>\n",
       "    <tr>\n",
       "      <th>Szeged vasútállomás - Szeged, Rókus vasútállomás</th>\n",
       "      <td>0.000000</td>\n",
       "      <td>571</td>\n",
       "      <td>0.000000</td>\n",
       "    </tr>\n",
       "    <tr>\n",
       "      <th>Gyula - Szeged</th>\n",
       "      <td>0.000000</td>\n",
       "      <td>56</td>\n",
       "      <td>0.000000</td>\n",
       "    </tr>\n",
       "  </tbody>\n",
       "</table>\n",
       "<p>586 rows × 3 columns</p>\n",
       "</div>"
      ]
     },
     "execution_count": 24,
     "metadata": {},
     "output_type": "execute_result"
    }
   ],
   "execution_count": 24
  },
  {
   "metadata": {
    "ExecuteTime": {
     "end_time": "2025-06-10T17:50:15.667685Z",
     "start_time": "2025-06-10T17:50:12.353213Z"
    }
   },
   "cell_type": "code",
   "source": "df.boxplot('delay', by='menetvonal')",
   "id": "fb02d5d555011fc1",
   "outputs": [
    {
     "data": {
      "text/plain": [
       "<Axes: title={'center': 'delay'}, xlabel='menetvonal'>"
      ]
     },
     "execution_count": 25,
     "metadata": {},
     "output_type": "execute_result"
    },
    {
     "data": {
      "text/plain": [
       "<Figure size 640x480 with 1 Axes>"
      ],
      "image/png": "[encoded data removed]"
     },
     "metadata": {},
     "output_type": "display_data"
    }
   ],
   "execution_count": 25
  },
  {
   "metadata": {
    "ExecuteTime": {
     "end_time": "2025-06-10T17:50:37.252936Z",
     "start_time": "2025-06-10T17:50:36.939372Z"
    }
   },
   "cell_type": "code",
   "source": "",
   "id": "7baed03edc8a34b5",
   "outputs": [
    {
     "data": {
      "text/plain": [
       "array([[<Axes: title={'center': 'delay'}>]], dtype=object)"
      ]
     },
     "execution_count": 26,
     "metadata": {},
     "output_type": "execute_result"
    },
    {
     "data": {
      "text/plain": [
       "<Figure size 640x480 with 1 Axes>"
      ],
      "image/png": "[encoded data removed]"
     },
     "metadata": {},
     "output_type": "display_data"
    }
   ],
   "execution_count": 26
  },
  {
   "metadata": {},
   "cell_type": "code",
   "outputs": [],
   "execution_count": null,
   "source": "",
   "id": "72a8e7523cbab24a"
  },
  {
   "metadata": {
    "SqlCellData": {
     "data_source_name": "dump3",
     "variableName$1": "df_sql1"
    },
    "ExecuteTime": {
     "end_time": "2025-06-10T17:54:58.783521Z",
     "start_time": "2025-06-10T17:54:40.009931Z"
    }
   },
   "cell_type": "code",
   "source": [
    "%%sql\n",
    "select distinct relation, max(delay), count(distinct elvira_id) from train_position where delay > 120 group by relation ;"
   ],
   "id": "d34dc9443ae8a036",
   "outputs": [
    {
     "data": {
      "text/plain": [
       "                          relation  max(delay)  count(distinct elvira_id)\n",
       "0     Balatonfüred - Budapest-Déli         285                          1\n",
       "1             Beli Manastir - Pécs         123                          1\n",
       "2         Braşov - Budapest-Keleti         163                          1\n",
       "3      Budapest-Déli - Dunaújváros         377                          1\n",
       "4      Budapest-Déli - Nagykanizsa         147                          2\n",
       "5          Csömör - Örs vezér tere         348                          1\n",
       "6     Esztergom - Budapest-Nyugati         175                          1\n",
       "7        Keszthely - Budapest-Déli         161                          1\n",
       "8  Praha hl. n. - Budapest-Nyugati         186                          2\n",
       "9          Örs vezér tere - Csömör         121                          1"
      ],
      "text/html": [
       "<div>\n",
       "<style scoped>\n",
       "    .dataframe tbody tr th:only-of-type {\n",
       "        vertical-align: middle;\n",
       "    }\n",
       "\n",
       "    .dataframe tbody tr th {\n",
       "        vertical-align: top;\n",
       "    }\n",
       "\n",
       "    .dataframe thead th {\n",
       "        text-align: right;\n",
       "    }\n",
       "</style>\n",
       "<table border=\"1\" class=\"dataframe\">\n",
       "  <thead>\n",
       "    <tr style=\"text-align: right;\">\n",
       "      <th></th>\n",
       "      <th>relation</th>\n",
       "      <th>max(delay)</th>\n",
       "      <th>count(distinct elvira_id)</th>\n",
       "    </tr>\n",
       "  </thead>\n",
       "  <tbody>\n",
       "    <tr>\n",
       "      <th>0</th>\n",
       "      <td>Balatonfüred - Budapest-Déli</td>\n",
       "      <td>285</td>\n",
       "      <td>1</td>\n",
       "    </tr>\n",
       "    <tr>\n",
       "      <th>1</th>\n",
       "      <td>Beli Manastir - Pécs</td>\n",
       "      <td>123</td>\n",
       "      <td>1</td>\n",
       "    </tr>\n",
       "    <tr>\n",
       "      <th>2</th>\n",
       "      <td>Braşov - Budapest-Keleti</td>\n",
       "      <td>163</td>\n",
       "      <td>1</td>\n",
       "    </tr>\n",
       "    <tr>\n",
       "      <th>3</th>\n",
       "      <td>Budapest-Déli - Dunaújváros</td>\n",
       "      <td>377</td>\n",
       "      <td>1</td>\n",
       "    </tr>\n",
       "    <tr>\n",
       "      <th>4</th>\n",
       "      <td>Budapest-Déli - Nagykanizsa</td>\n",
       "      <td>147</td>\n",
       "      <td>2</td>\n",
       "    </tr>\n",
       "    <tr>\n",
       "      <th>5</th>\n",
       "      <td>Csömör - Örs vezér tere</td>\n",
       "      <td>348</td>\n",
       "      <td>1</td>\n",
       "    </tr>\n",
       "    <tr>\n",
       "      <th>6</th>\n",
       "      <td>Esztergom - Budapest-Nyugati</td>\n",
       "      <td>175</td>\n",
       "      <td>1</td>\n",
       "    </tr>\n",
       "    <tr>\n",
       "      <th>7</th>\n",
       "      <td>Keszthely - Budapest-Déli</td>\n",
       "      <td>161</td>\n",
       "      <td>1</td>\n",
       "    </tr>\n",
       "    <tr>\n",
       "      <th>8</th>\n",
       "      <td>Praha hl. n. - Budapest-Nyugati</td>\n",
       "      <td>186</td>\n",
       "      <td>2</td>\n",
       "    </tr>\n",
       "    <tr>\n",
       "      <th>9</th>\n",
       "      <td>Örs vezér tere - Csömör</td>\n",
       "      <td>121</td>\n",
       "      <td>1</td>\n",
       "    </tr>\n",
       "  </tbody>\n",
       "</table>\n",
       "</div>"
      ]
     },
     "execution_count": 29,
     "metadata": {},
     "output_type": "execute_result"
    }
   ],
   "execution_count": 29
  },
  {
   "metadata": {},
   "cell_type": "code",
   "outputs": [],
   "execution_count": null,
   "source": "",
   "id": "1d7cc06be5aa04ea"
  }
 ],
 "metadata": {
  "kernelspec": {
   "display_name": "Python 3",
   "language": "python",
   "name": "python3"
  },
  "language_info": {
   "codemirror_mode": {
    "name": "ipython",
    "version": 2
   },
   "file_extension": ".py",
   "mimetype": "text/x-python",
   "name": "python",
   "nbconvert_exporter": "python",
   "pygments_lexer": "ipython2",
   "version": "2.7.6"
  }
 },
 "nbformat": 4,
 "nbformat_minor": 5
}
